{
 "cells": [
  {
   "cell_type": "markdown",
   "metadata": {},
   "source": [
    "# ML Lab01 기본적인 Machine Learning의 용어와 개념 설명\n",
    "\n",
    "TensorFlow는 Data flow graphs를 사용해서 numerical computation을 하는 것\n",
    "\n",
    "## Data Flow Graph란?\n",
    "Graph는 Node와 Edge로 이루어진 것을 Graph라고 한다.\n",
    "- Node는 Operation이라고 볼 수 있고\n",
    "- Edge는 Data(Tensor)라고 볼 수 있다.\n",
    "\n",
    "\n",
    "### Tensorflow Version Check"
   ]
  },
  {
   "cell_type": "code",
   "execution_count": 23,
   "metadata": {
    "scrolled": true
   },
   "outputs": [
    {
     "data": {
      "text/plain": [
       "'1.12.0'"
      ]
     },
     "execution_count": 23,
     "metadata": {},
     "output_type": "execute_result"
    }
   ],
   "source": [
    "import tensorflow as tf\n",
    "tf.__version__"
   ]
  },
  {
   "cell_type": "markdown",
   "metadata": {},
   "source": [
    "### Hello, TensorFlow"
   ]
  },
  {
   "cell_type": "code",
   "execution_count": 24,
   "metadata": {},
   "outputs": [
    {
     "name": "stdout",
     "output_type": "stream",
     "text": [
      "Hello, TensorFlow\n"
     ]
    }
   ],
   "source": [
    "import tensorflow as tf\n",
    "# 그래프 속에 Hello, tensorFlow가 들어있는 Node를 만드는 것\n",
    "hello = tf.constant(\"Hello, TensorFlow\")\n",
    "#TF session을 만들어주고\n",
    "sess = tf.Session()\n",
    "#TF session을 통해서 실행\n",
    "print(sess.run(hello))"
   ]
  },
  {
   "cell_type": "markdown",
   "metadata": {},
   "source": [
    "### Computational Graph  \n",
    "\n",
    "a와 b라는 Node가 있고 Node가 더하기라는 Node3로 연결되는 Graph"
   ]
  },
  {
   "cell_type": "code",
   "execution_count": 25,
   "metadata": {},
   "outputs": [
    {
     "name": "stdout",
     "output_type": "stream",
     "text": [
      "('node1:', <tf.Tensor 'Const_11:0' shape=() dtype=float32>, 'node2:', <tf.Tensor 'Const_12:0' shape=() dtype=float32>)\n",
      "('node3: ', <tf.Tensor 'Add_4:0' shape=() dtype=float32>)\n"
     ]
    }
   ],
   "source": [
    "node1 = tf.constant(3.0, tf.float32) #DataType을 줄 수도 있다.\n",
    "node2 = tf.constant(4.0)\n",
    "node3 = tf.add(node1, node2) # node3 = node1 + node2와 같음\n",
    "\n",
    "#이 출력은 결과 값이 나오는 것이 아니라 Graph의 한 텐서(요소)라는 것만 말해줌\n",
    "print(\"node1:\", node1, \"node2:\", node2)\n",
    "print(\"node3: \", node3)"
   ]
  },
  {
   "cell_type": "markdown",
   "metadata": {},
   "source": [
    "#세션을 통해서 실행을 시켜줘야지만 결과 값이 나온다.\n",
    "sess = tf.Session()\n",
    "print('sess1.run(node1, node2): ',sess.run([node1, node2]))\n",
    "print(\"sess1.run(node3): \", sess.run(node3))"
   ]
  },
  {
   "cell_type": "markdown",
   "metadata": {},
   "source": [
    "<br>\n",
    "## TensorFlow Mechanics\n",
    "\n",
    "1. Graph를 TensorFlow 툴을 통해서 빌드한다.\n",
    "2. sess.run(op)을 통해서 Graph를 실행시킨다\n",
    "3. 그 결과로 Graph 속의 어떤 값들이 업데이트되거나 리턴한다.  \n",
    "\n"
   ]
  },
  {
   "cell_type": "markdown",
   "metadata": {},
   "source": [
    "### Placeholder"
   ]
  },
  {
   "cell_type": "code",
   "execution_count": 26,
   "metadata": {},
   "outputs": [
    {
     "name": "stdout",
     "output_type": "stream",
     "text": [
      "7.5\n",
      "[3. 7.]\n"
     ]
    }
   ],
   "source": [
    "#Node들을 만듦\n",
    "a = tf.placeholder(tf.float32)\n",
    "b = tf.placeholder(tf.float32)\n",
    "adder_node = a + b\n",
    "\n",
    "print(sess.run(adder_node, feed_dict={a: 3, b: 4.5}))\n",
    "print(sess.run(adder_node, feed_dict={a: [1,3], b: [2, 4]}))"
   ]
  },
  {
   "cell_type": "markdown",
   "metadata": {},
   "source": [
    "## Tensor\n",
    "\n",
    "Ranks, Shapes, and Types로 구분함\n",
    "```\n",
    "Rank\n",
    "0 Scalar : s = 483\n",
    "1 Vecotr : v = [1.1, 2.2, 3.3]\n",
    "2 Matrix : m = [[1, 2, 3], [4, 5, 6], [7, 8, 9]]\n",
    "3 3-tensor\n",
    "n n-tensor\n",
    "\n",
    "Shape\n",
    "0 []                  scalar\n",
    "1 [D0]                [5]\n",
    "2 [D0, D1]            [3, 4]\n",
    "3 [D0, D1, D2]        [1, 4, 3]\n",
    "n [D0, D1, ...Dn-1]\n",
    "\n",
    "Data Type\n",
    "DF_FLOAT     tf.float32 #대부분 float32 사용\n",
    "\n",
    "```"
   ]
  },
  {
   "cell_type": "markdown",
   "metadata": {},
   "source": [
    "---\n",
    "## 가장 중요한 부분\n",
    "\n",
    "### TensorFlow Mechanics\n",
    "\n",
    "1. Graph를 TensorFlow 툴을 통해서 빌드한다.\n",
    "2. sess.run(op)을 통해서 Graph를 실행시킨다\n",
    "3. 그 결과로 Graph 속의 어떤 값들이 업데이트되거나 리턴한다.  \n"
   ]
  }
 ],
 "metadata": {
  "kernelspec": {
   "display_name": "Python 2",
   "language": "python",
   "name": "python2"
  },
  "language_info": {
   "codemirror_mode": {
    "name": "ipython",
    "version": 2
   },
   "file_extension": ".py",
   "mimetype": "text/x-python",
   "name": "python",
   "nbconvert_exporter": "python",
   "pygments_lexer": "ipython2",
   "version": "2.7.12"
  }
 },
 "nbformat": 4,
 "nbformat_minor": 2
}
