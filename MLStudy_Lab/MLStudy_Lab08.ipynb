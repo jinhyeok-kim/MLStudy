{
 "cells": [
  {
   "cell_type": "markdown",
   "metadata": {},
   "source": [
    "# ML Lab08 : Tensor Manipulation\n",
    "\n",
    "## Simple ID array and slicing\n",
    "\n",
    "```python\n",
    "\n",
    "t = np.array([0., 1., 2., 3., 4., 5., 6.])\n",
    "\n",
    "```"
   ]
  },
  {
   "cell_type": "code",
   "execution_count": 1,
   "metadata": {},
   "outputs": [
    {
     "name": "stdout",
     "output_type": "stream",
     "text": [
      "1\n",
      "(7,)\n",
      "0.0 1.0 6.0\n",
      "[2. 3. 4.] [4. 5.]\n",
      "[0. 1.] [3. 4. 5. 6.]\n"
     ]
    }
   ],
   "source": [
    "import tensorflow as tf\n",
    "import numpy as np\n",
    "\n",
    "t = np.array([0., 1., 2., 3., 4., 5., 6.])\n",
    "\n",
    "\n",
    "print t.ndim # rank\n",
    "print t.shape # shape\n",
    "print t[0], t[1], t[-1]\n",
    "print t[2:5], t[4:-1]\n",
    "print t[:2], t[3:]"
   ]
  },
  {
   "cell_type": "markdown",
   "metadata": {},
   "source": [
    "## 2D Array"
   ]
  },
  {
   "cell_type": "code",
   "execution_count": 2,
   "metadata": {},
   "outputs": [
    {
     "name": "stdout",
     "output_type": "stream",
     "text": [
      "2\n",
      "(4, 3)\n"
     ]
    }
   ],
   "source": [
    "t = np.array([[1., 2., 3.], [4., 5., 6.], [7., 8., 9.,], [10., 11., 12]])\n",
    "\n",
    "print t.ndim\n",
    "print t.shape"
   ]
  },
  {
   "cell_type": "markdown",
   "metadata": {},
   "source": [
    "## Shape, Rank, Axis"
   ]
  },
  {
   "cell_type": "code",
   "execution_count": 3,
   "metadata": {},
   "outputs": [
    {
     "name": "stdout",
     "output_type": "stream",
     "text": [
      "<bound method Tensor.eval of <tf.Tensor 'Shape:0' shape=(1,) dtype=int32>>\n",
      "<bound method Tensor.eval of <tf.Tensor 'Rank:0' shape=() dtype=int32>>\n"
     ]
    }
   ],
   "source": [
    "t = tf.constant([1,2,3,4])\n",
    "print tf.shape(t).eval\n",
    "print tf.rank(t).eval"
   ]
  },
  {
   "cell_type": "code",
   "execution_count": 4,
   "metadata": {},
   "outputs": [
    {
     "name": "stdout",
     "output_type": "stream",
     "text": [
      "<bound method Tensor.eval of <tf.Tensor 'Shape_1:0' shape=(2,) dtype=int32>>\n",
      "<bound method Tensor.eval of <tf.Tensor 'Rank_1:0' shape=() dtype=int32>>\n"
     ]
    }
   ],
   "source": [
    "t = tf.constant([[1,2],[3,4]])\n",
    "print tf.shape(t).eval\n",
    "print tf.rank(t).eval"
   ]
  },
  {
   "cell_type": "markdown",
   "metadata": {},
   "source": [
    "```python\n",
    "[ #axis = 0 \n",
    "    [ #axis = 1\n",
    "        [ #axis = 2\n",
    "            [1,2,3,4], #axis=3 or axis = -1\n",
    "            [5,6,7,8],\n",
    "            [9,10,11,12]\n",
    "        ],\n",
    "        [\n",
    "            [13,14,15,16],\n",
    "            [17,18,19,20],\n",
    "            [21,22,23,24]\n",
    "        ]\n",
    "    ]\n",
    "]\n",
    "```\n",
    "\n",
    "Rank가 4라는 것은 4개의 축이 있다고 볼 수 있다."
   ]
  },
  {
   "cell_type": "code",
   "execution_count": 5,
   "metadata": {},
   "outputs": [
    {
     "name": "stdout",
     "output_type": "stream",
     "text": [
      "<bound method Tensor.eval of <tf.Tensor 'Shape_2:0' shape=(4,) dtype=int32>>\n",
      "<bound method Tensor.eval of <tf.Tensor 'Rank_2:0' shape=() dtype=int32>>\n"
     ]
    }
   ],
   "source": [
    "t = tf.constant([[[[1, 2, 3, 4], [5, 6, 7, 8], [9, 10, 11, 12]],\n",
    "                [[13,14,15,16], [17, 18, 19, 20], [21, 22, 23, 24]]]])\n",
    "\n",
    "print tf.shape(t).eval\n",
    "print tf.rank(t).eval"
   ]
  },
  {
   "cell_type": "markdown",
   "metadata": {},
   "source": [
    "## Matmul VS multipy"
   ]
  },
  {
   "cell_type": "code",
   "execution_count": 6,
   "metadata": {},
   "outputs": [
    {
     "name": "stdout",
     "output_type": "stream",
     "text": [
      "Metrix 1 shape (2, 2)\n",
      "Metrix 2 shape (2, 1)\n",
      "[[ 5.]\n",
      " [11.]]\n",
      "[[1. 2.]\n",
      " [6. 8.]]\n"
     ]
    }
   ],
   "source": [
    "matrix1 = tf.constant([[1.,2],[3.,4.]])\n",
    "matrix2 = tf.constant([[1.], [2.]])\n",
    "\n",
    "print \"Metrix 1 shape\", matrix1.shape\n",
    "print \"Metrix 2 shape\", matrix2.shape\n",
    "\n",
    "with tf.Session() as sess:\n",
    "    print tf.matmul(matrix1, matrix2).eval()\n",
    "    \n",
    "    # 아래는 broadcast! broadcast는 격이 맞지 않아도 연산이 된다.\n",
    "    # matrix곱을 할 때 아래와 같이 하면 안된다!!!\n",
    "    # ㄱ\n",
    "    print (matrix1*matrix2).eval()"
   ]
  },
  {
   "cell_type": "markdown",
   "metadata": {},
   "source": [
    "## Reduce mean"
   ]
  },
  {
   "cell_type": "code",
   "execution_count": 7,
   "metadata": {},
   "outputs": [
    {
     "name": "stdout",
     "output_type": "stream",
     "text": [
      "1\n"
     ]
    }
   ],
   "source": [
    "with tf.Session() as sess:\n",
    "    print tf.reduce_mean([1,2], axis=0).eval()"
   ]
  },
  {
   "cell_type": "code",
   "execution_count": 8,
   "metadata": {},
   "outputs": [
    {
     "name": "stdout",
     "output_type": "stream",
     "text": [
      "2.5\n",
      "[2. 3.]\n",
      "[1.5 3.5]\n",
      "[1.5 3.5]\n"
     ]
    }
   ],
   "source": [
    "with tf.Session() as sess:\n",
    "    x = [[1., 2.],\n",
    "        [3., 4.]]\n",
    "    \n",
    "    print tf.reduce_mean(x).eval()\n",
    "    \n",
    "    print tf.reduce_mean(x, axis=0).eval()\n",
    "    print tf.reduce_mean(x, axis=1).eval()\n",
    "    print tf.reduce_mean(x, axis=-1).eval()"
   ]
  },
  {
   "cell_type": "markdown",
   "metadata": {},
   "source": [
    "## Reduce sum"
   ]
  },
  {
   "cell_type": "code",
   "execution_count": 9,
   "metadata": {},
   "outputs": [
    {
     "name": "stdout",
     "output_type": "stream",
     "text": [
      "10.0\n",
      "[4. 6.]\n",
      "[3. 7.]\n",
      "5.0\n"
     ]
    }
   ],
   "source": [
    "with tf.Session() as sess:\n",
    "    x = [[1., 2.],\n",
    "        [3., 4.]]\n",
    "    \n",
    "    print tf.reduce_sum(x).eval()\n",
    "    \n",
    "    print tf.reduce_sum(x, axis=0).eval()\n",
    "    print tf.reduce_sum(x, axis=1).eval()\n",
    "    print tf.reduce_mean(tf.reduce_sum(x, axis=-1)).eval()"
   ]
  },
  {
   "cell_type": "markdown",
   "metadata": {},
   "source": [
    "## Argmax"
   ]
  },
  {
   "cell_type": "code",
   "execution_count": 10,
   "metadata": {},
   "outputs": [
    {
     "name": "stdout",
     "output_type": "stream",
     "text": [
      "[1 0 0]\n",
      "[2 0]\n",
      "[2 0]\n"
     ]
    }
   ],
   "source": [
    "x = [[0, 1, 2],\n",
    "    [2, 1., 0]]\n",
    "\n",
    "with tf.Session() as sess:\n",
    "    print tf.argmax(x, axis=0).eval()\n",
    "    print tf.argmax(x, axis=1).eval()\n",
    "    print tf.argmax(x, axis=-1).eval()"
   ]
  },
  {
   "cell_type": "markdown",
   "metadata": {},
   "source": [
    "## Resahpe(가장 많이 사용하는 것!! 매우 중요!!!)"
   ]
  },
  {
   "cell_type": "code",
   "execution_count": 11,
   "metadata": {},
   "outputs": [
    {
     "name": "stdout",
     "output_type": "stream",
     "text": [
      "(2, 2, 3)\n",
      "[[ 0  1  2]\n",
      " [ 3  4  5]\n",
      " [ 6  7  8]\n",
      " [ 9 10 11]] \n",
      "\n",
      "[[[ 0  1  2]]\n",
      "\n",
      " [[ 3  4  5]]\n",
      "\n",
      " [[ 6  7  8]]\n",
      "\n",
      " [[ 9 10 11]]]\n"
     ]
    }
   ],
   "source": [
    "t = np.array([[[0, 1, 2],\n",
    "              [3, 4, 5]],\n",
    "             [[6, 7, 8],\n",
    "             [9, 10, 11]]])\n",
    "print t.shape\n",
    "\n",
    "with tf.Session() as sess:\n",
    "    print tf.reshape(t, shape=[-1, 3]).eval() ,\"\\n\"\n",
    "    print tf.reshape(t, shape=[-1, 1, 3]).eval()"
   ]
  },
  {
   "cell_type": "raw",
   "metadata": {},
   "source": [
    "### Reshape (squeeze, expand)"
   ]
  },
  {
   "cell_type": "code",
   "execution_count": 12,
   "metadata": {},
   "outputs": [
    {
     "name": "stdout",
     "output_type": "stream",
     "text": [
      "[0 1 2] \n",
      "\n",
      "[[0]\n",
      " [1]\n",
      " [2]]\n"
     ]
    }
   ],
   "source": [
    "with tf.Session() as sess:\n",
    "    print tf.squeeze([[0], [1], [2]]).eval(),\"\\n\"\n",
    "    print tf.expand_dims([0, 1, 2], 1).eval()"
   ]
  },
  {
   "cell_type": "markdown",
   "metadata": {},
   "source": [
    "## One hot"
   ]
  },
  {
   "cell_type": "code",
   "execution_count": 13,
   "metadata": {},
   "outputs": [
    {
     "name": "stdout",
     "output_type": "stream",
     "text": [
      "[[[1. 0. 0.]]\n",
      "\n",
      " [[0. 1. 0.]]\n",
      "\n",
      " [[0. 0. 1.]]\n",
      "\n",
      " [[0. 0. 1.]]\n",
      "\n",
      " [[1. 0. 0.]]] \n",
      "\n",
      "[[1. 0. 0.]\n",
      " [0. 1. 0.]\n",
      " [0. 0. 1.]\n",
      " [0. 0. 1.]\n",
      " [1. 0. 0.]]\n"
     ]
    }
   ],
   "source": [
    "with tf.Session() as sess:\n",
    "    print tf.one_hot([[0], [1], [2], [2], [0]], depth=3).eval(),\"\\n\"\n",
    "    t = tf.one_hot([[0], [1], [2], [2], [0]], depth=3)\n",
    "    print tf.reshape(t, shape=[-1,3]).eval()"
   ]
  },
  {
   "cell_type": "markdown",
   "metadata": {},
   "source": [
    "## Casting"
   ]
  },
  {
   "cell_type": "code",
   "execution_count": 14,
   "metadata": {},
   "outputs": [
    {
     "name": "stdout",
     "output_type": "stream",
     "text": [
      "[1 2 3 4] \n",
      "\n",
      "[1 0 1 0]\n"
     ]
    }
   ],
   "source": [
    "with tf.Session() as sess:\n",
    "    print tf.cast([1.8, 2.2, 3.3, 4.9], tf.int32).eval(),\"\\n\"\n",
    "    print tf.cast([True, False, 1 == 1, 0 == 1], tf.int32).eval()"
   ]
  },
  {
   "cell_type": "markdown",
   "metadata": {},
   "source": [
    "## Stack"
   ]
  },
  {
   "cell_type": "code",
   "execution_count": 15,
   "metadata": {},
   "outputs": [
    {
     "name": "stdout",
     "output_type": "stream",
     "text": [
      "[[1 4]\n",
      " [2 5]\n",
      " [3 6]] \n",
      "\n",
      "[[1 2 3]\n",
      " [4 5 6]]\n"
     ]
    }
   ],
   "source": [
    "x = [1, 4]\n",
    "y = [2, 5]\n",
    "z = [3, 6]\n",
    "\n",
    "with tf.Session() as sess:\n",
    "# Pack along first dim.\n",
    "    print tf.stack([x, y, z]).eval() , \"\\n\"\n",
    "    print tf.stack([x, y, z], axis=1).eval()"
   ]
  },
  {
   "cell_type": "markdown",
   "metadata": {},
   "source": [
    "## Ones and Zeros like"
   ]
  },
  {
   "cell_type": "code",
   "execution_count": 16,
   "metadata": {},
   "outputs": [
    {
     "name": "stdout",
     "output_type": "stream",
     "text": [
      "[[1 1 1]\n",
      " [1 1 1]] \n",
      "\n",
      "[[0 0 0]\n",
      " [0 0 0]] \n",
      "\n"
     ]
    }
   ],
   "source": [
    "x = [[0, 1, 2],\n",
    "    [2, 1, 0]]\n",
    "\n",
    "with tf.Session() as sess:\n",
    "# Pack along first dim.\n",
    "    print tf.ones_like(x).eval() , \"\\n\"\n",
    "    print tf.zeros_like(x).eval() , \"\\n\""
   ]
  },
  {
   "cell_type": "markdown",
   "metadata": {},
   "source": [
    "## Zip"
   ]
  },
  {
   "cell_type": "code",
   "execution_count": 17,
   "metadata": {},
   "outputs": [
    {
     "name": "stdout",
     "output_type": "stream",
     "text": [
      "1 4\n",
      "2 5\n",
      "3 6\n",
      "1 4 7\n",
      "2 5 8\n",
      "3 6 9\n"
     ]
    }
   ],
   "source": [
    "for x, y in zip([1, 2, 3], [4, 5, 6]):\n",
    "    print x, y\n",
    "    \n",
    "for x, y, z in zip([1, 2, 3], [4, 5, 6], [7, 8, 9]):\n",
    "    print x, y, z"
   ]
  }
 ],
 "metadata": {
  "kernelspec": {
   "display_name": "Python 2",
   "language": "python",
   "name": "python2"
  },
  "language_info": {
   "codemirror_mode": {
    "name": "ipython",
    "version": 2
   },
   "file_extension": ".py",
   "mimetype": "text/x-python",
   "name": "python",
   "nbconvert_exporter": "python",
   "pygments_lexer": "ipython2",
   "version": "2.7.12"
  }
 },
 "nbformat": 4,
 "nbformat_minor": 2
}
