{
 "cells": [
  {
   "cell_type": "markdown",
   "metadata": {},
   "source": [
    "# ML Lab06-1 : TensorFlow로 Softmax Classification 구현\n",
    "\n",
    "## Softmax function\n",
    "\n",
    "```python\n",
    "XW = Y -> tf.matmul(X,W)+b\n",
    "\n",
    "hypothesis = tf.nn.softmax(tf.matmul(X,W)+b)\n",
    "\n",
    "```\n",
    "\n",
    "## Cost function: cross entropy\n",
    "\n",
    "$$ L = {1 \\over N}\\sum_{i} D(WX_i + b), L_i) $$\n",
    "<br>\n",
    "```python\n",
    "#cross entropy cost/Loss\n",
    "cost = tf.reduce.mean(-tf.reduce_sum(Y * tf.log(hypothesis), axis=1))\n",
    "optimizer = tf.train.GradientDescentOptimizer(learning_rate=0.1).minimize(cost)\n",
    "```\n"
   ]
  },
  {
   "cell_type": "code",
   "execution_count": 12,
   "metadata": {
    "scrolled": true
   },
   "outputs": [
    {
     "name": "stdout",
     "output_type": "stream",
     "text": [
      "0 1.838775\n",
      "200 0.6086009\n",
      "400 0.5047752\n",
      "600 0.40911883\n",
      "800 0.31603417\n",
      "1000 0.24591187\n",
      "1200 0.22185314\n",
      "1400 0.20204955\n",
      "1600 0.18536782\n",
      "1800 0.17113404\n",
      "2000 0.15885572\n",
      "[[3.9356574e-03 9.9606043e-01 3.8644030e-06]] [1]\n",
      "[[3.9356574e-03 9.9606043e-01 3.8644030e-06]\n",
      " [8.8794374e-01 1.0978861e-01 2.2676068e-03]\n",
      " [1.0757113e-08 2.5400039e-04 9.9974602e-01]] [1 0 2]\n"
     ]
    }
   ],
   "source": [
    "import tensorflow as tf\n",
    "\n",
    "# multi variable data\n",
    "x_data = [[1, 2, 1, 1], [2, 1, 3, 2], [3, 1, 3, 4], [4, 1, 5, 5], [1, 7, 5, 5], [1, 2, 5, 6], [1, 6, 6, 6], [1, 7, 7, 7]]\n",
    "y_data = [[0, 0, 1], [0, 0, 1], [0, 0, 1], [0, 1, 0], [0, 1, 0], [0, 1, 0], [1, 0, 0], [1, 0, 0]]\n",
    "\n",
    "# placeholder를 만들때는 shape에 꼭 주의 해야한다!\n",
    "X = tf.placeholder(tf.float32, shape=[None, 4])\n",
    "Y = tf.placeholder(tf.float32, shape=[None, 3])\n",
    "nb_classes = 3\n",
    "\n",
    "W = tf.Variable(tf.random_normal([4, nb_classes]), name='weight')\n",
    "b = tf.Variable(tf.random_normal([nb_classes]), name='bias')\n",
    "\n",
    "# tf.nn.softmax compute softmax activations\n",
    "# softmax = exp(Logistic) / reduce_sum(exp(Logits), dim)\n",
    "hypothesis = tf.nn.softmax(tf.matmul(X, W) + b)\n",
    "\n",
    "\n",
    "# Cross entropy cost/Loss\n",
    "cost = tf.reduce_mean(-tf.reduce_sum(Y * tf.log(hypothesis), axis=1))\n",
    "optimizer = tf.train.GradientDescentOptimizer(learning_rate=0.1).minimize(cost)\n",
    "\n",
    "\n",
    "# ------------ 위의 소스 코드까지가 graph ----------------------\n",
    "\n",
    "# Launch graph\n",
    "with tf.Session() as sess:\n",
    "    #initailize\n",
    "    sess.run(tf.global_variables_initializer())\n",
    "    \n",
    "    for step in range(2001):\n",
    "        sess.run(optimizer, feed_dict={X: x_data, Y: y_data})\n",
    "        if step % 200 == 0:\n",
    "            print step, sess.run(cost, feed_dict={X: x_data, Y: y_data})\n",
    "    \n",
    "    #Test & one-hot encoding\n",
    "    a = sess.run(hypothesis, feed_dict={X: [[1, 11, 7, 9]]})\n",
    "    print a, sess.run(tf.arg_max(a, 1))\n",
    "    \n",
    "    all = sess.run(hypothesis, feed_dict={X: [[1, 11, 7, 9],\n",
    "                                             [1, 3, 4, 3],\n",
    "                                             [1, 1, 0, 1]]})\n",
    "    print all, sess.run(tf.arg_max(all, 1))\n",
    "            "
   ]
  }
 ],
 "metadata": {
  "kernelspec": {
   "display_name": "Python 2",
   "language": "python",
   "name": "python2"
  },
  "language_info": {
   "codemirror_mode": {
    "name": "ipython",
    "version": 2
   },
   "file_extension": ".py",
   "mimetype": "text/x-python",
   "name": "python",
   "nbconvert_exporter": "python",
   "pygments_lexer": "ipython2",
   "version": "2.7.12"
  }
 },
 "nbformat": 4,
 "nbformat_minor": 2
}
