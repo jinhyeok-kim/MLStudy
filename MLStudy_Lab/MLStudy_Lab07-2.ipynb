{
 "cells": [
  {
   "cell_type": "markdown",
   "metadata": {},
   "source": [
    "# ML Lab07-2 : Meet MNIST Datset"
   ]
  },
  {
   "cell_type": "code",
   "execution_count": 2,
   "metadata": {
    "scrolled": true
   },
   "outputs": [
    {
     "name": "stdout",
     "output_type": "stream",
     "text": [
      "Extracting MNIST_data/train-images-idx3-ubyte.gz\n",
      "Extracting MNIST_data/train-labels-idx1-ubyte.gz\n",
      "Extracting MNIST_data/t10k-images-idx3-ubyte.gz\n",
      "Extracting MNIST_data/t10k-labels-idx1-ubyte.gz\n",
      "Epch:0001 cost =  2.709861920\n",
      "Epch:0002 cost =  1.142232756\n",
      "Epch:0003 cost =  0.910223033\n",
      "Epch:0004 cost =  0.793498486\n",
      "Epch:0005 cost =  0.718433119\n",
      "Epch:0006 cost =  0.665098684\n",
      "Epch:0007 cost =  0.624866126\n",
      "Epch:0008 cost =  0.592659530\n",
      "Epch:0009 cost =  0.567058191\n",
      "Epch:0010 cost =  0.545026293\n",
      "Epch:0011 cost =  0.526715620\n",
      "Epch:0012 cost =  0.510526478\n",
      "Epch:0013 cost =  0.496533751\n",
      "Epch:0014 cost =  0.484279632\n",
      "Epch:0015 cost =  0.472980749\n",
      "Accuracy:  0.8904\n",
      "Label: [1]\n",
      "Prediction: [1]\n"
     ]
    },
    {
     "data": {
      "image/png": "[encoded data removed]",
      "text/plain": [
       "<Figure size 432x288 with 1 Axes>"
      ]
     },
     "metadata": {
      "needs_background": "light"
     },
     "output_type": "display_data"
    }
   ],
   "source": [
    "import tensorflow as tf\n",
    "import matplotlib.pyplot as plt\n",
    "import random\n",
    "\n",
    "\n",
    "from tensorflow.examples.tutorials.mnist import input_data\n",
    "# check out https://www.tensorflow.org/get_started/mnist/beginnners for\n",
    "# more information about the mnist dataset\n",
    "\n",
    "mnist = input_data.read_data_sets(\"MNIST_data/\", one_hot=True)\n",
    "\n",
    "nb_classes = 10\n",
    "\n",
    "# MNIST data image of shape 28*28 = 784\n",
    "X = tf.placeholder(tf.float32, [None, 784])\n",
    "# 0 - 9 digits recognition = 10 nb_classes\n",
    "Y = tf.placeholder(tf.float32, [None, nb_classes])\n",
    "\n",
    "\n",
    "W = tf.Variable(tf.random_normal([784, nb_classes]))\n",
    "b = tf.Variable(tf.random_normal([nb_classes]))\n",
    "\n",
    "# Softmax!!\n",
    "\n",
    "# tf.nn.softmax compute softmax activations\n",
    "# softmax = exp(Logistic) / reduce_sum(exp(Logits), dim)\n",
    "hypothesis = tf.nn.softmax(tf.matmul(X, W) + b)\n",
    "\n",
    "# Cross entropy cost/Loss\n",
    "cost = tf.reduce_mean(-tf.reduce_sum(Y * tf.log(hypothesis), axis=1))\n",
    "optimizer = tf.train.GradientDescentOptimizer(learning_rate=0.1).minimize(cost)\n",
    "\n",
    "# ------------ 위의 소스 코드까지가 graph ----------------------\n",
    "\n",
    "\n",
    "# Test model\n",
    "prediction = tf.arg_max(hypothesis, 1)\n",
    "is_correct = tf.equal(prediction, tf.arg_max(Y, 1))\n",
    "# Calculate accuracy\n",
    "accuracy = tf.reduce_mean(tf.cast(is_correct, tf.float32))\n",
    "\n",
    "# Training epoch/batch\n",
    "# epoch(에폭) : 전체 dataset을 한 번 다 학습 시키는 것을 1 epoch이라고 한다.\n",
    "# batch size : 1 epoch을 하려고 하는데 dataset이 너무 큰 경우 잘라서 넣어줘야하는데 그 자르는 size를 batch size라고 한다.\n",
    "\n",
    "# Example : TrainingSet이 1000개가 있고 batch size가 500인 경우, 2 iteration 하면 1 epoch이 된다.\n",
    " \n",
    "# parameters\n",
    "training_epochs = 15\n",
    "batch_size = 100\n",
    "\n",
    "with tf.Session() as sess:\n",
    "    # Initialize TensorFlow variables\n",
    "    sess.run(tf.global_variables_initializer())\n",
    "    \n",
    "    # Training cycle\n",
    "    for epoch in range(training_epochs): # dataset을 training_epoch번 학습할꺼야\n",
    "        avg_cost = 0\n",
    "        total_batch = int(mnist.train.num_examples / batch_size) # 전체 data set을 batch_size로 나눈 번만큼 학습을 해야 1 epoch을 학습 가능\n",
    "        \n",
    "        for i in range(total_batch):\n",
    "            batch_xs, batch_ys = mnist.train.next_batch(batch_size)\n",
    "            c, _ = sess.run([cost, optimizer], feed_dict={X: batch_xs, Y: batch_ys})\n",
    "            avg_cost += c / total_batch\n",
    "            \n",
    "        print 'Epch:' '%04d' % (epoch + 1), 'cost = ', '{:.9f}'.format(avg_cost)\n",
    "\n",
    "\n",
    "    # Test the model using test sets\n",
    "    print \"Accuracy: \", accuracy.eval(session=sess,\n",
    "                                 feed_dict={X: mnist.test.images, Y: mnist.test.labels})\n",
    "\n",
    "\n",
    "\n",
    "\n",
    "    # Get one and predict\n",
    "    r = random.randint(0, mnist.test.num_examples - 1)\n",
    "    print \"Label:\", sess.run(tf.argmax(mnist.test.labels[r:r+1], 1))\n",
    "    print \"Prediction:\", sess.run(tf.argmax(hypothesis, 1),\n",
    "                                 feed_dict={X: mnist.test.images[r:r + 1]})\n",
    "\n",
    "    plt.imshow(mnist.test.images[r:r + 1].\n",
    "              reshape(28, 28), cmap='Greys', interpolation='nearest')\n",
    "    plt.show()"
   ]
  },
  {
   "cell_type": "code",
   "execution_count": null,
   "metadata": {},
   "outputs": [],
   "source": []
  }
 ],
 "metadata": {
  "kernelspec": {
   "display_name": "Python 2",
   "language": "python",
   "name": "python2"
  },
  "language_info": {
   "codemirror_mode": {
    "name": "ipython",
    "version": 2
   },
   "file_extension": ".py",
   "mimetype": "text/x-python",
   "name": "python",
   "nbconvert_exporter": "python",
   "pygments_lexer": "ipython2",
   "version": "2.7.12"
  }
 },
 "nbformat": 4,
 "nbformat_minor": 2
}
